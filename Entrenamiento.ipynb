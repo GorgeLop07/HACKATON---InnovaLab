{
  "cells": [
    {
      "cell_type": "markdown",
      "source": [
        "# **Fase de Entrenamiento**"
      ],
      "metadata": {
        "id": "C9TJe8XSLwdf"
      },
      "id": "C9TJe8XSLwdf"
    },
    {
      "cell_type": "code",
      "execution_count": null,
      "id": "a0db8e11",
      "metadata": {
        "id": "a0db8e11"
      },
      "outputs": [],
      "source": []
    }
  ],
  "metadata": {
    "language_info": {
      "name": "python"
    },
    "colab": {
      "provenance": [],
      "toc_visible": true
    }
  },
  "nbformat": 4,
  "nbformat_minor": 5
}