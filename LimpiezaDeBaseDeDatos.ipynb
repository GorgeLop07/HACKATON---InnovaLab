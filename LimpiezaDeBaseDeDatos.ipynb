{
  "cells": [
    {
      "cell_type": "markdown",
      "source": [
        "# **Limpieza de Datos**\n",
        "Aqui podemos observar e ir poniendo como vamos a ir limpiando el excel:"
      ],
      "metadata": {
        "id": "UOgby9U0I6dT"
      },
      "id": "UOgby9U0I6dT"
    },
    {
      "cell_type": "code",
      "execution_count": 2,
      "id": "f0bb8658",
      "metadata": {
        "colab": {
          "base_uri": "https://localhost:8080/"
        },
        "id": "f0bb8658",
        "outputId": "7b17bf63-b65c-449f-e7ea-58c7e64e079d"
      },
      "outputs": [
        {
          "output_type": "stream",
          "name": "stdout",
          "text": [
            "hellow world\n"
          ]
        }
      ],
      "source": [
        "print(\"hellow world\")"
      ]
    }
  ],
  "metadata": {
    "kernelspec": {
      "display_name": "base",
      "language": "python",
      "name": "python3"
    },
    "language_info": {
      "codemirror_mode": {
        "name": "ipython",
        "version": 3
      },
      "file_extension": ".py",
      "mimetype": "text/x-python",
      "name": "python",
      "nbconvert_exporter": "python",
      "pygments_lexer": "ipython3",
      "version": "3.12.4"
    },
    "colab": {
      "provenance": [],
      "toc_visible": true
    }
  },
  "nbformat": 4,
  "nbformat_minor": 5
}