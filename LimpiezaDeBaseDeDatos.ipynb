{
 "cells": [
  {
   "cell_type": "markdown",
   "id": "187df145",
   "metadata": {},
   "source": [
    "Limpieza De Datos:\n"
   ]
  },
  {
   "cell_type": "code",
   "execution_count": 1,
   "id": "f0bb8658",
   "metadata": {},
   "outputs": [
    {
     "name": "stdout",
     "output_type": "stream",
     "text": [
      "hellow world\n"
     ]
    }
   ],
   "source": [
    "print(\"hellow world\")"
   ]
  }
 ],
 "metadata": {
  "kernelspec": {
   "display_name": "base",
   "language": "python",
   "name": "python3"
  },
  "language_info": {
   "codemirror_mode": {
    "name": "ipython",
    "version": 3
   },
   "file_extension": ".py",
   "mimetype": "text/x-python",
   "name": "python",
   "nbconvert_exporter": "python",
   "pygments_lexer": "ipython3",
   "version": "3.12.4"
  }
 },
 "nbformat": 4,
 "nbformat_minor": 5
}
