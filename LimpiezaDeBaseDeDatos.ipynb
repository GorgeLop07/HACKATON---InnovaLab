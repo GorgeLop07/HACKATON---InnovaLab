{
  "cells": [
    {
      "cell_type": "markdown",
      "id": "187df145",
      "metadata": {
        "id": "187df145"
      },
      "source": [
        "Limpieza De Datos:\n"
      ]
    },
    {
      "cell_type": "code",
      "execution_count": 2,
      "id": "f0bb8658",
      "metadata": {
        "id": "f0bb8658",
        "outputId": "7b17bf63-b65c-449f-e7ea-58c7e64e079d",
        "colab": {
          "base_uri": "https://localhost:8080/"
        }
      },
      "outputs": [
        {
          "output_type": "stream",
          "name": "stdout",
          "text": [
            "hellow world\n"
          ]
        }
      ],
      "source": [
        "print(\"hellow world\")"
      ]
    },
    {
      "cell_type": "code",
      "source": [
        "print(\"UWU_Prueba2\")"
      ],
      "metadata": {
        "id": "4MVqMGFkHC3L",
        "outputId": "2f917152-78dd-42fd-c0fd-d69bc090cb35",
        "colab": {
          "base_uri": "https://localhost:8080/"
        }
      },
      "id": "4MVqMGFkHC3L",
      "execution_count": 3,
      "outputs": [
        {
          "output_type": "stream",
          "name": "stdout",
          "text": [
            "UWU_Prueba2\n"
          ]
        }
      ]
    }
  ],
  "metadata": {
    "kernelspec": {
      "display_name": "base",
      "language": "python",
      "name": "python3"
    },
    "language_info": {
      "codemirror_mode": {
        "name": "ipython",
        "version": 3
      },
      "file_extension": ".py",
      "mimetype": "text/x-python",
      "name": "python",
      "nbconvert_exporter": "python",
      "pygments_lexer": "ipython3",
      "version": "3.12.4"
    },
    "colab": {
      "provenance": []
    }
  },
  "nbformat": 4,
  "nbformat_minor": 5
}