{
  "cells": [
    {
      "cell_type": "markdown",
      "source": [
        "# **Limpieza de Datos**\n",
        "Aqui podemos observar e ir poniendo como vamos a ir limpiando el excel:"
      ],
      "metadata": {
        "id": "UOgby9U0I6dT"
      },
      "id": "UOgby9U0I6dT"
    },
    {
      "cell_type": "code",
      "execution_count": 5,
      "id": "f0bb8658",
      "metadata": {
        "colab": {
          "base_uri": "https://localhost:8080/"
        },
        "id": "f0bb8658",
        "outputId": "5f6292dd-602e-40ac-a0b8-23f1cedd81a1"
      },
      "outputs": [
        {
          "output_type": "stream",
          "name": "stdout",
          "text": [
            "hellow world\n"
          ]
        }
      ],
      "source": [
        "print(\"hellow world\")"
      ]
    },
    {
      "cell_type": "code",
      "source": [
        "print(\"grrr\")"
      ],
      "metadata": {
        "id": "odxWEirLhr-U"
      },
      "id": "odxWEirLhr-U",
      "execution_count": null,
      "outputs": []
    }
  ],
  "metadata": {
    "kernelspec": {
      "display_name": "base",
      "language": "python",
      "name": "python3"
    },
    "language_info": {
      "codemirror_mode": {
        "name": "ipython",
        "version": 3
      },
      "file_extension": ".py",
      "mimetype": "text/x-python",
      "name": "python",
      "nbconvert_exporter": "python",
      "pygments_lexer": "ipython3",
      "version": "3.12.4"
    },
    "colab": {
      "provenance": [],
      "toc_visible": true
    }
  },
  "nbformat": 4,
  "nbformat_minor": 5
}